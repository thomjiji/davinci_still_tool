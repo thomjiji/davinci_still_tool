{
 "cells": [
  {
   "cell_type": "code",
   "execution_count": null,
   "metadata": {
    "ExecuteTime": {
     "end_time": "2023-04-22T15:27:05.561750Z",
     "start_time": "2023-04-22T15:27:05.557341Z"
    },
    "pycharm": {
     "is_executing": true
    }
   },
   "outputs": [],
   "source": [
    "from src.resolve_init import GetResolve\n",
    "from pprint import pprint\n",
    "\n",
    "resolve = GetResolve()\n",
    "project_manager = resolve.GetProjectManager()\n",
    "project = project_manager.GetCurrentProject()\n",
    "media_storage = resolve.GetMediaStorage()\n",
    "media_pool = project.GetMediaPool()\n",
    "root_folder = media_pool.GetRootFolder()\n",
    "current_timeline = project.GetCurrentTimeline()\n",
    "\n",
    "\n",
    "def get_subfolder_by_name(subfolder_name: str):\n",
    "    all_subfolder = root_folder.GetSubFolderList()\n",
    "    subfolder_dict = {\n",
    "        subfolder.GetName(): subfolder for subfolder in all_subfolder\n",
    "    }\n",
    "    return subfolder_dict.get(subfolder_name, \"\")\n",
    "\n",
    "\n",
    "def get_video_clips_in_date_group_source_folder(date_group: str) -> list:\n",
    "    source_clip_list = []\n",
    "\n",
    "    date_group_folder_structure = get_subfolder_by_name(\n",
    "        date_group\n",
    "    ).GetSubFolderList()  # type: ignore\n",
    "\n",
    "    for folder in date_group_folder_structure:\n",
    "        if folder.GetName() == \"Source\":\n",
    "            for each_video_reel in folder.GetSubFolderList():\n",
    "                reel_clips = each_video_reel.GetClipList()\n",
    "                for clip in reel_clips:\n",
    "                    source_clip_list.append(clip)\n",
    "\n",
    "    return source_clip_list\n",
    "\n",
    "\n",
    "def create_timeline(timeline_name: str, width: int, height: int) -> bool:\n",
    "    media_pool.CreateEmptyTimeline(timeline_name)\n",
    "    current_timeline = project.GetCurrentTimeline()\n",
    "    current_timeline.SetSetting(\"useCustomSettings\", \"1\")\n",
    "    current_timeline.SetSetting(\"timelineResolutionWidth\", str(width))\n",
    "    current_timeline.SetSetting(\"timelineResolutionHeight\", str(height))\n",
    "    return current_timeline.SetSetting(\"timelineFrameRate\", str(24))\n",
    "\n",
    "\n",
    "def get_clips_by_clip_color(date_group: str, clip_color: str) -> list:\n",
    "    source_clip_list = get_video_clips_in_date_group_source_folder(date_group)\n",
    "    return [\n",
    "        clip\n",
    "        for clip in source_clip_list\n",
    "        if clip.GetClipProperty(\"Clip Color\") == clip_color\n",
    "    ]\n",
    "\n",
    "\n",
    "def get_scene(date_group: str, clip_color: str) -> set:\n",
    "    scene_list = []\n",
    "    for clip in get_clips_by_clip_color(date_group, clip_color):\n",
    "        scene_list.append(clip.GetClipProperty(\"Scene\"))\n",
    "    return set(scene_list)\n",
    "\n",
    "\n",
    "get_scene(\"DAY_015_20230421\", \"Pink\")\n",
    "\n",
    "\n",
    "def get_clips_by_scene(date_group: str, clip_color: str, scene: str) -> list:\n",
    "    return [\n",
    "        clip\n",
    "        for clip in get_clips_by_clip_color(date_group, clip_color)\n",
    "        if clip.GetClipProperty(\"Scene\") == scene\n",
    "    ]\n",
    "\n",
    "# Get clips sorted by shot number\n",
    "clip_shot_and_clip_dict = {\n",
    "    clip.GetClipProperty(\"Shot\"): clip\n",
    "    for clip in get_clips_by_scene(\"DAY_015_20230421\", \"Pink\", \"10\")\n",
    "}\n",
    "clip_shot_and_clip_keys = list(clip_shot_and_clip_dict.keys())\n",
    "clip_shot_and_clip_keys.sort()\n",
    "clip_shot_and_clip_values = [\n",
    "    clip_shot_and_clip_dict.get(i) for i in clip_shot_and_clip_keys\n",
    "]\n",
    "media_pool.AppendToTimeline(clip_shot_and_clip_values)"
   ]
  },
  {
   "cell_type": "code",
   "execution_count": null,
   "metadata": {
    "pycharm": {
     "is_executing": true
    }
   },
   "outputs": [],
   "source": [
    "from src.resolve_init import GetResolve\n",
    "from pprint import pprint\n",
    "\n",
    "resolve = GetResolve()\n",
    "project_manager = resolve.GetProjectManager()\n",
    "project = project_manager.GetCurrentProject()\n",
    "media_storage = resolve.GetMediaStorage()\n",
    "media_pool = project.GetMediaPool()\n",
    "root_folder = media_pool.GetRootFolder()\n",
    "current_timeline = project.GetCurrentTimeline()\n",
    "\n",
    "current_timeline.GetSetting()"
   ]
  }
 ],
 "metadata": {
  "kernelspec": {
   "display_name": ".venv",
   "language": "python",
   "name": "python3"
  },
  "language_info": {
   "codemirror_mode": {
    "name": "ipython",
    "version": 3
   },
   "file_extension": ".py",
   "mimetype": "text/x-python",
   "name": "python",
   "nbconvert_exporter": "python",
   "pygments_lexer": "ipython3",
   "version": "3.10.11"
  },
  "orig_nbformat": 4
 },
 "nbformat": 4,
 "nbformat_minor": 2
}
