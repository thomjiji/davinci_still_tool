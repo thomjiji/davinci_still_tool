{
 "cells": [
  {
   "cell_type": "code",
   "execution_count": 21,
   "metadata": {},
   "outputs": [
    {
     "data": {
      "text/plain": [
       "dict_values([{'color': 'Blue', 'duration': 1, 'note': '', 'name': 'Marker 17', 'customData': ''}, {'color': 'Cyan', 'duration': 1, 'note': '', 'name': 'Marker 7', 'customData': ''}, {'color': 'Green', 'duration': 1, 'note': '', 'name': 'Marker 8', 'customData': ''}, {'color': 'Yellow', 'duration': 1, 'note': '', 'name': 'Marker 9', 'customData': ''}, {'color': 'Red', 'duration': 1, 'note': '', 'name': 'Marker 10', 'customData': ''}, {'color': 'Pink', 'duration': 1, 'note': '', 'name': 'Marker 1', 'customData': ''}, {'color': 'Purple', 'duration': 1, 'note': '', 'name': 'Marker 11', 'customData': ''}, {'color': 'Fuchsia', 'duration': 1, 'note': '', 'name': 'Marker 2', 'customData': ''}, {'color': 'Rose', 'duration': 1, 'note': '', 'name': 'Marker 12', 'customData': ''}, {'color': 'Lavender', 'duration': 1, 'note': '', 'name': 'Marker 13', 'customData': ''}, {'color': 'Sky', 'duration': 1, 'note': '', 'name': 'Marker 5', 'customData': ''}, {'color': 'Mint', 'duration': 1, 'note': '', 'name': 'Marker 6', 'customData': ''}, {'color': 'Lemon', 'duration': 1, 'note': '', 'name': 'Marker 3', 'customData': ''}, {'color': 'Sand', 'duration': 1, 'note': '', 'name': 'Marker 14', 'customData': ''}, {'color': 'Cocoa', 'duration': 1, 'note': '', 'name': 'Marker 15', 'customData': ''}, {'color': 'Cream', 'duration': 1, 'note': '', 'name': 'Marker 16', 'customData': ''}, {'color': 'Blue', 'duration': 1, 'note': '', 'name': 'Marker 21', 'customData': ''}, {'color': 'Blue', 'duration': 1, 'note': '', 'name': 'Marker 18', 'customData': ''}, {'color': 'Blue', 'duration': 1, 'note': '', 'name': 'Marker 19', 'customData': ''}, {'color': 'Blue', 'duration': 1, 'note': '', 'name': 'Marker 20', 'customData': ''}])"
      ]
     },
     "execution_count": 21,
     "metadata": {},
     "output_type": "execute_result"
    }
   ],
   "source": [
    "from davinci_still_tool.resolve_init import GetResolve\n",
    "\n",
    "resolve = GetResolve()\n",
    "project_manager = resolve.GetProjectManager()\n",
    "project = project_manager.GetCurrentProject()\n",
    "media_storage = resolve.GetMediaStorage()\n",
    "media_pool = project.GetMediaPool()\n",
    "root_folder = media_pool.GetRootFolder()\n",
    "current_timeline = project.GetCurrentTimeline()\n",
    "\n",
    "\n",
    "color_marker_count = 0\n",
    "for marker_properties in current_timeline.GetMarkers().values():\n",
    "    if marker_properties[\"color\"] == \"Blue\":\n",
    "        color_marker_count += 1\n",
    "color_marker_count\n"
   ]
  },
  {
   "cell_type": "code",
   "execution_count": null,
   "metadata": {},
   "outputs": [],
   "source": []
  }
 ],
 "metadata": {
  "kernelspec": {
   "display_name": ".venv",
   "language": "python",
   "name": "python3"
  },
  "language_info": {
   "codemirror_mode": {
    "name": "ipython",
    "version": 3
   },
   "file_extension": ".py",
   "mimetype": "text/x-python",
   "name": "python",
   "nbconvert_exporter": "python",
   "pygments_lexer": "ipython3",
   "version": "3.10.11"
  },
  "orig_nbformat": 4
 },
 "nbformat": 4,
 "nbformat_minor": 2
}
