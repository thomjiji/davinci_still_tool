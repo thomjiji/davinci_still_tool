{
 "cells": [
  {
   "cell_type": "code",
   "execution_count": 2,
   "metadata": {},
   "outputs": [
    {
     "data": {
      "text/plain": [
       "False"
      ]
     },
     "execution_count": 2,
     "metadata": {},
     "output_type": "execute_result"
    }
   ],
   "source": [
    "from davinci_still_tool.resolve_init import GetResolve\n",
    "\n",
    "resolve = GetResolve()\n",
    "project_manager = resolve.GetProjectManager()\n",
    "project = project_manager.GetCurrentProject()\n",
    "media_storage = resolve.GetMediaStorage()\n",
    "media_pool = project.GetMediaPool()\n",
    "root_folder = media_pool.GetRootFolder()\n",
    "current_timeline = project.GetCurrentTimeline()\n",
    "\n",
    "for root_folder_item in root_folder.GetClipList():\n",
    "    if root_folder_item.GetClipProperty(\"type\") == \"Video\":\n",
    "        # media_pool.AppendToTimeline(root_folder_item)\n",
    "        for timeline_item in media_pool.AppendToTimeline(root_folder_item):\n",
    "            print(timeline_item.AddTake(root_folder_item, 1, 2))\n",
    "            break"
   ]
  },
  {
   "cell_type": "code",
   "execution_count": null,
   "metadata": {},
   "outputs": [],
   "source": [
    "def append_to_timeline(self) -> None:\n",
    "    \"\"\"Append to timeline\"\"\"\n",
    "    all_timeline_name = [\n",
    "        timeline.GetName() for timeline in self.get_all_timeline()  # type: ignore\n",
    "    ]\n",
    "    for subfolder in self.root_folder.GetSubFolderList():\n",
    "        for clip in subfolder.GetClipList():\n",
    "            if (\n",
    "                clip.GetClipProperty(\"type\") == \"Video\"\n",
    "                or clip.GetClipProperty(\"type\") == \"Video + Audio\"\n",
    "            ):\n",
    "                clip_width = clip.GetClipProperty(\"Resolution\").split(\"x\")[0]\n",
    "                clip_height = clip.GetClipProperty(\"Resolution\").split(\"x\")[1]\n",
    "                for name in all_timeline_name:\n",
    "                    if f\"{clip_width}x{clip_height}\" in name:\n",
    "                        self.project.SetCurrentTimeline(\n",
    "                            self.get_timeline_by_name(name)\n",
    "                        )\n",
    "                        self.media_pool.AppendToTimeline(clip)"
   ]
  }
 ],
 "metadata": {
  "kernelspec": {
   "display_name": ".venv",
   "language": "python",
   "name": "python3"
  },
  "language_info": {
   "codemirror_mode": {
    "name": "ipython",
    "version": 3
   },
   "file_extension": ".py",
   "mimetype": "text/x-python",
   "name": "python",
   "nbconvert_exporter": "python",
   "pygments_lexer": "ipython3",
   "version": "3.10.11"
  },
  "orig_nbformat": 4
 },
 "nbformat": 4,
 "nbformat_minor": 2
}
