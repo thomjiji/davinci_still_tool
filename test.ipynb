{
 "cells": [
  {
   "cell_type": "code",
   "execution_count": null,
   "metadata": {
    "ExecuteTime": {
     "end_time": "2023-04-22T15:27:05.561750Z",
     "start_time": "2023-04-22T15:27:05.557341Z"
    }
   },
   "outputs": [],
   "source": [
    "from src.resolve_init import GetResolve\n",
    "from pprint import pprint\n",
    "\n",
    "resolve = GetResolve()\n",
    "project_manager = resolve.GetProjectManager()\n",
    "project = project_manager.GetCurrentProject()\n",
    "media_storage = resolve.GetMediaStorage()\n",
    "media_pool = project.GetMediaPool()\n",
    "root_folder = media_pool.GetRootFolder()\n",
    "current_timeline = project.GetCurrentTimeline()\n",
    "\n",
    "\n",
    "def get_subfolder_by_name(subfolder_name: str):\n",
    "    all_subfolder = root_folder.GetSubFolderList()\n",
    "    subfolder_dict = {\n",
    "        subfolder.GetName(): subfolder for subfolder in all_subfolder\n",
    "    }\n",
    "    return subfolder_dict.get(subfolder_name, \"\")\n",
    "\n",
    "\n",
    "def get_video_clips_in_date_group_source_folder(date_group: str) -> list:\n",
    "    source_clip_list = []\n",
    "\n",
    "    date_group_folder_structure = get_subfolder_by_name(\n",
    "        date_group\n",
    "    ).GetSubFolderList()  # type: ignore\n",
    "\n",
    "    for folder in date_group_folder_structure:\n",
    "        if folder.GetName() == \"Source\":\n",
    "            for each_video_reel in folder.GetSubFolderList():\n",
    "                reel_clips = each_video_reel.GetClipList()\n",
    "                for clip in reel_clips:\n",
    "                    source_clip_list.append(clip)\n",
    "\n",
    "    return source_clip_list\n",
    "\n",
    "\n",
    "def create_timeline(timeline_name: str, width: int, height: int) -> bool:\n",
    "    media_pool.CreateEmptyTimeline(timeline_name)\n",
    "    current_timeline = project.GetCurrentTimeline()\n",
    "    current_timeline.SetSetting(\"useCustomSettings\", \"1\")\n",
    "    current_timeline.SetSetting(\"timelineResolutionWidth\", str(width))\n",
    "    current_timeline.SetSetting(\"timelineResolutionHeight\", str(height))\n",
    "    return current_timeline.SetSetting(\"timelineFrameRate\", str(24))\n",
    "\n",
    "\n",
    "def get_clips_by_clip_color(date_group: str, clip_color: str) -> list:\n",
    "    source_clip_list = get_video_clips_in_date_group_source_folder(date_group)\n",
    "    return [\n",
    "        clip\n",
    "        for clip in source_clip_list\n",
    "        if clip.GetClipProperty(\"Clip Color\") == clip_color\n",
    "    ]\n",
    "\n",
    "\n",
    "def get_scene(date_group: str, clip_color: str) -> set:\n",
    "    scene_list = []\n",
    "    for clip in get_clips_by_clip_color(date_group, clip_color):\n",
    "        scene_list.append(clip.GetClipProperty(\"Scene\"))\n",
    "    return set(scene_list)\n",
    "\n",
    "\n",
    "def get_clips_by_scene(date_group: str, clip_color: str, scene: str) -> list:\n",
    "    return [\n",
    "        clip\n",
    "        for clip in get_clips_by_clip_color(date_group, clip_color)\n",
    "        if clip.GetClipProperty(\"Scene\") == scene\n",
    "    ]\n",
    "\n",
    "\n",
    "clips = get_clips_by_scene(\"DAY_015_20230421\", \"Pink\", \"46b\")\n",
    "media_pool.AppendToTimeline(clips)"
   ]
  },
  {
   "cell_type": "code",
   "execution_count": null,
   "outputs": [],
   "source": [
    "from src.resolve_init import GetResolve\n",
    "from pprint import pprint\n",
    "\n",
    "resolve = GetResolve()\n",
    "project_manager = resolve.GetProjectManager()\n",
    "project = project_manager.GetCurrentProject()\n",
    "media_storage = resolve.GetMediaStorage()\n",
    "media_pool = project.GetMediaPool()\n",
    "root_folder = media_pool.GetRootFolder()\n",
    "current_timeline = project.GetCurrentTimeline()\n",
    "\n",
    "current_timeline.GetSetting()"
   ],
   "metadata": {
    "collapsed": false,
    "ExecuteTime": {
     "start_time": "2023-04-24T09:13:11.702275Z",
     "end_time": "2023-04-24T09:13:11.704663Z"
    }
   }
  },
  {
   "cell_type": "code",
   "execution_count": null,
   "outputs": [],
   "source": [],
   "metadata": {
    "collapsed": false
   }
  }
 ],
 "metadata": {
  "kernelspec": {
   "display_name": ".venv",
   "language": "python",
   "name": "python3"
  },
  "language_info": {
   "codemirror_mode": {
    "name": "ipython",
    "version": 3
   },
   "file_extension": ".py",
   "mimetype": "text/x-python",
   "name": "python",
   "nbconvert_exporter": "python",
   "pygments_lexer": "ipython3",
   "version": "3.10.11"
  },
  "orig_nbformat": 4
 },
 "nbformat": 4,
 "nbformat_minor": 2
}
