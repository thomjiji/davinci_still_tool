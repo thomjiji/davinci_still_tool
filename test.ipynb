{
 "cells": [
  {
   "cell_type": "code",
   "execution_count": 5,
   "metadata": {
    "ExecuteTime": {
     "start_time": "2023-04-26T17:15:39.639957Z",
     "end_time": "2023-04-26T17:15:39.646080Z"
    },
    "collapsed": false
   },
   "outputs": [
    {
     "data": {
      "text/plain": "{510: {'color': 'Cream',\n  'duration': 1,\n  'note': '',\n  'name': 'Marker 3',\n  'customData': ''},\n 5722: {'color': 'Cream',\n  'duration': 1,\n  'note': '',\n  'name': 'Marker 14',\n  'customData': ''},\n 7849: {'color': 'Red',\n  'duration': 1,\n  'note': '',\n  'name': 'Marker 17',\n  'customData': ''}}"
     },
     "execution_count": 5,
     "metadata": {},
     "output_type": "execute_result"
    }
   ],
   "source": [
    "from src.resolve_init import GetResolve\n",
    "from pprint import pprint\n",
    "from dftt_timecode import DfttTimecode\n",
    "\n",
    "resolve = GetResolve()\n",
    "project_manager = resolve.GetProjectManager()\n",
    "project = project_manager.GetCurrentProject()\n",
    "media_storage = resolve.GetMediaStorage()\n",
    "media_pool = project.GetMediaPool()\n",
    "root_folder = media_pool.GetRootFolder()\n",
    "current_timeline = project.GetCurrentTimeline()\n",
    "\n",
    "all_markers = current_timeline.GetMarkers()\n",
    "\n",
    "start_timecode_range = DfttTimecode(\n",
    "    \"01:00:00:00\", \"auto\", 24, False, True\n",
    ")\n",
    "end_timecode_range = DfttTimecode(\n",
    "    \"01:05:27:01\", \"auto\", 24, False, True\n",
    ")\n",
    "for frame_id in list(all_markers):\n",
    "    if (\n",
    "        int(frame_id) + 86400 < start_timecode_range\n",
    "        or int(frame_id) + 86400 > end_timecode_range\n",
    "    ):\n",
    "        all_markers.pop(frame_id)\n",
    "\n",
    "all_markers\n"
   ]
  },
  {
   "cell_type": "code",
   "execution_count": null,
   "outputs": [],
   "source": [],
   "metadata": {
    "collapsed": false
   }
  }
 ],
 "metadata": {
  "kernelspec": {
   "display_name": ".venv",
   "language": "python",
   "name": "python3"
  },
  "language_info": {
   "codemirror_mode": {
    "name": "ipython",
    "version": 3
   },
   "file_extension": ".py",
   "mimetype": "text/x-python",
   "name": "python",
   "nbconvert_exporter": "python",
   "pygments_lexer": "ipython3",
   "version": "3.10.11"
  },
  "orig_nbformat": 4
 },
 "nbformat": 4,
 "nbformat_minor": 2
}
