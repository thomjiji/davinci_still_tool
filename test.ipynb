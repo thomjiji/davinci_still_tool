{
 "cells": [
  {
   "cell_type": "code",
   "execution_count": 15,
   "metadata": {},
   "outputs": [
    {
     "name": "stdout",
     "output_type": "stream",
     "text": [
      "86720\n",
      "86792 127 55\n"
     ]
    }
   ],
   "source": [
    "from davinci_still_tool.resolve_init import GetResolve\n",
    "\n",
    "resolve = GetResolve()\n",
    "project_manager = resolve.GetProjectManager()\n",
    "project = project_manager.GetCurrentProject()\n",
    "media_storage = resolve.GetMediaStorage()\n",
    "media_pool = project.GetMediaPool()\n",
    "root_folder = media_pool.GetRootFolder()\n",
    "current_timeline = project.GetCurrentTimeline()\n",
    "\n",
    "media_pool_item = root_folder.GetSubFolderList()[0].GetClipList()[0]\n",
    "media_pool.AppendToTimeline(\n",
    "    [{\"mediaPoolItem\": media_pool_item, \"startFrame\": 1, \"endFrame\": 1}]\n",
    ")\n",
    "current_timeline.GetItemListInTrack(\"video\", 1)[0].GetMarkers()\n",
    "\n",
    "timelineItems = current_timeline.GetItemListInTrack(\"video\", 1)\n",
    "for timelineItem in timelineItems:\n",
    "    timelineItemStartFrame = timelineItem.GetStart()\n",
    "    timelineItemLeftOffset = timelineItem.GetLeftOffset()\n",
    "    markers = timelineItem.GetMarkers()\n",
    "    for markerStartFrame in markers.keys():\n",
    "        print(timelineItemStartFrame - timelineItemLeftOffset + markerStartFrame)\n",
    "        print(timelineItemStartFrame, timelineItemLeftOffset, markerStartFrame)\n",
    "        break\n",
    "    break"
   ]
  },
  {
   "cell_type": "code",
   "execution_count": 22,
   "metadata": {},
   "outputs": [],
   "source": [
    "def append_to_timeline(self) -> None:\n",
    "    \"\"\"Append to timeline\"\"\"\n",
    "    all_timeline_name = [\n",
    "        timeline.GetName() for timeline in self.get_all_timeline()  # type: ignore\n",
    "    ]\n",
    "    for subfolder in self.root_folder.GetSubFolderList():\n",
    "        for clip in subfolder.GetClipList():\n",
    "            if (\n",
    "                clip.GetClipProperty(\"type\") == \"Video\"\n",
    "                or clip.GetClipProperty(\"type\") == \"Video + Audio\"\n",
    "            ):\n",
    "                clip_width = clip.GetClipProperty(\"Resolution\").split(\"x\")[0]\n",
    "                clip_height = clip.GetClipProperty(\"Resolution\").split(\"x\")[1]\n",
    "                for name in all_timeline_name:\n",
    "                    if f\"{clip_width}x{clip_height}\" in name:\n",
    "                        self.project.SetCurrentTimeline(\n",
    "                            self.get_timeline_by_name(name)\n",
    "                        )\n",
    "                        self.media_pool.AppendToTimeline(clip)"
   ]
  },
  {
   "cell_type": "code",
   "execution_count": null,
   "metadata": {},
   "outputs": [],
   "source": []
  }
 ],
 "metadata": {
  "kernelspec": {
   "display_name": ".venv",
   "language": "python",
   "name": "python3"
  },
  "language_info": {
   "codemirror_mode": {
    "name": "ipython",
    "version": 3
   },
   "file_extension": ".py",
   "mimetype": "text/x-python",
   "name": "python",
   "nbconvert_exporter": "python",
   "pygments_lexer": "ipython3",
   "version": "3.10.11"
  },
  "orig_nbformat": 4
 },
 "nbformat": 4,
 "nbformat_minor": 2
}
