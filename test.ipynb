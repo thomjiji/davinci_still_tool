{
 "cells": [
  {
   "cell_type": "code",
   "execution_count": 10,
   "outputs": [
    {
     "name": "stdout",
     "output_type": "stream",
     "text": [
      "'Orange'\n",
      "'Apricot'\n",
      "'Yellow'\n",
      "'Lime'\n",
      "'Olive'\n",
      "'Green'\n",
      "'Teal'\n",
      "'Navy'\n",
      "'Blue'\n",
      "'Purple'\n",
      "'Violet'\n",
      "'Pink'\n",
      "'Tan'\n",
      "'Beige'\n",
      "'Brown'\n",
      "'Chocolate'\n"
     ]
    }
   ],
   "source": [
    "from pprint import pprint\n",
    "from src.resolve_init import GetResolve\n",
    "resolve = GetResolve()\n",
    "project_manager = resolve.GetProjectManager()\n",
    "project = project_manager.GetCurrentProject()\n",
    "media_storage = resolve.GetMediaStorage()\n",
    "media_pool = project.GetMediaPool()\n",
    "root_folder = media_pool.GetRootFolder()\n",
    "current_timeline = project.GetCurrentTimeline()\n",
    "\n",
    "for clip in root_folder.GetClipList():\n",
    "    pprint(clip.GetClipColor())"
   ],
   "metadata": {
    "collapsed": false,
    "ExecuteTime": {
     "end_time": "2023-05-15T06:36:10.217797Z",
     "start_time": "2023-05-15T06:36:10.215451Z"
    }
   }
  },
  {
   "cell_type": "code",
   "execution_count": null,
   "outputs": [],
   "source": [],
   "metadata": {
    "collapsed": false
   }
  }
 ],
 "metadata": {
  "kernelspec": {
   "display_name": ".venv",
   "language": "python",
   "name": "python3"
  },
  "language_info": {
   "codemirror_mode": {
    "name": "ipython",
    "version": 3
   },
   "file_extension": ".py",
   "mimetype": "text/x-python",
   "name": "python",
   "nbconvert_exporter": "python",
   "pygments_lexer": "ipython3",
   "version": "3.10.11"
  },
  "orig_nbformat": 4
 },
 "nbformat": 4,
 "nbformat_minor": 2
}
