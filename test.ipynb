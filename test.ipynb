{
 "cells": [
  {
   "cell_type": "code",
   "execution_count": 10,
   "outputs": [
    {
     "data": {
      "text/plain": "['海边空镜', '按时间看', '88+2', '88+1', '77c', '75', '63', '62', '31+1', '8', '1夜空镜']"
     },
     "execution_count": 10,
     "metadata": {},
     "output_type": "execute_result"
    }
   ],
   "source": [
    "import re\n",
    "\n",
    "from src.resolve_init import GetResolve\n",
    "from pprint import pprint\n",
    "from dftt_timecode import DfttTimecode\n",
    "\n",
    "resolve = GetResolve()\n",
    "project_manager = resolve.GetProjectManager()\n",
    "project = project_manager.GetCurrentProject()\n",
    "media_storage = resolve.GetMediaStorage()\n",
    "media_pool = project.GetMediaPool()\n",
    "root_folder = media_pool.GetRootFolder()\n",
    "current_timeline = project.GetCurrentTimeline()\n",
    "\n",
    "lst = [\"1\", \"11\", \"10\", \"2\", \"4\", \"x\"]\n",
    "\n",
    "\n",
    "def scene_sorting_handler(scene: str):\n",
    "    try:\n",
    "        return int(scene)\n",
    "    except ValueError:\n",
    "        try:\n",
    "            return int(re.split(r\"[+\\-&#@$*a-zA-Z\\u4e00-\\u9fa5]\", scene)[0])\n",
    "        except ValueError:\n",
    "            return float(\"inf\")\n",
    "\n",
    "\n",
    "scenes = ['8', '31+1', '62', '63', '75', '77c', '88+2', '88+1', '海边空镜', '1夜空镜', '按时间看']\n",
    "\n",
    "sorted(scenes, key=scene_sorting_handler, reverse=True)"
   ],
   "metadata": {
    "collapsed": false,
    "ExecuteTime": {
     "start_time": "2023-04-27T22:26:52.285746Z",
     "end_time": "2023-04-27T22:26:52.289324Z"
    }
   }
  },
  {
   "cell_type": "code",
   "execution_count": null,
   "outputs": [],
   "source": [],
   "metadata": {
    "collapsed": false
   }
  }
 ],
 "metadata": {
  "kernelspec": {
   "display_name": ".venv",
   "language": "python",
   "name": "python3"
  },
  "language_info": {
   "codemirror_mode": {
    "name": "ipython",
    "version": 3
   },
   "file_extension": ".py",
   "mimetype": "text/x-python",
   "name": "python",
   "nbconvert_exporter": "python",
   "pygments_lexer": "ipython3",
   "version": "3.10.11"
  },
  "orig_nbformat": 4
 },
 "nbformat": 4,
 "nbformat_minor": 2
}
