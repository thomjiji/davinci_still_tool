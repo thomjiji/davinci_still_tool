{
 "cells": [
  {
   "cell_type": "code",
   "execution_count": null,
   "metadata": {
    "ExecuteTime": {
     "end_time": "2023-04-22T15:27:05.561750Z",
     "start_time": "2023-04-22T15:27:05.557341Z"
    }
   },
   "outputs": [],
   "source": [
    "from davinci_still_tool.resolve_init import GetResolve\n",
    "from pprint import pprint\n",
    "\n",
    "resolve = GetResolve()\n",
    "project_manager = resolve.GetProjectManager()\n",
    "project = project_manager.GetCurrentProject()\n",
    "media_storage = resolve.GetMediaStorage()\n",
    "media_pool = project.GetMediaPool()\n",
    "root_folder = media_pool.GetRootFolder()\n",
    "current_timeline = project.GetCurrentTimeline()\n",
    "\n",
    "\n",
    "def get_subfolder_by_name(subfolder_name: str):\n",
    "    all_subfolder = root_folder.GetSubFolderList()\n",
    "    subfolder_dict = {\n",
    "        subfolder.GetName(): subfolder for subfolder in all_subfolder\n",
    "    }\n",
    "    return subfolder_dict.get(subfolder_name, \"\")\n",
    "\n",
    "\n",
    "A065R39V: list = (\n",
    "    get_subfolder_by_name(\"DAY_015_20230421\")\n",
    "    .GetSubFolderList()[0]  # type: ignore\n",
    "    .GetSubFolderList()[1]\n",
    "    .GetClipList()\n",
    ")\n",
    "\n",
    "for clip in A065R39V:\n",
    "    pprint(clip.GetClipProperty())\n",
    "    break"
   ]
  }
 ],
 "metadata": {
  "kernelspec": {
   "display_name": ".venv",
   "language": "python",
   "name": "python3"
  },
  "language_info": {
   "codemirror_mode": {
    "name": "ipython",
    "version": 3
   },
   "file_extension": ".py",
   "mimetype": "text/x-python",
   "name": "python",
   "nbconvert_exporter": "python",
   "pygments_lexer": "ipython3",
   "version": "3.10.11"
  },
  "orig_nbformat": 4
 },
 "nbformat": 4,
 "nbformat_minor": 2
}
