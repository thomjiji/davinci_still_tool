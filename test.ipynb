{
 "cells": [
  {
   "cell_type": "code",
   "execution_count": 39,
   "metadata": {},
   "outputs": [
    {
     "data": {
      "text/plain": [
       "{129: {'color': 'Blue',\n",
       "  'duration': 1,\n",
       "  'note': '',\n",
       "  'name': 'Marker 1',\n",
       "  'customData': ''},\n",
       " 1454: {'color': 'Blue',\n",
       "  'duration': 1,\n",
       "  'note': '',\n",
       "  'name': 'Marker 16',\n",
       "  'customData': ''},\n",
       " 1699: {'color': 'Blue',\n",
       "  'duration': 1,\n",
       "  'note': '',\n",
       "  'name': 'Marker 3',\n",
       "  'customData': ''},\n",
       " 2373: {'color': 'Blue',\n",
       "  'duration': 1,\n",
       "  'note': '',\n",
       "  'name': 'Marker 7',\n",
       "  'customData': ''},\n",
       " 2699: {'color': 'Blue',\n",
       "  'duration': 1,\n",
       "  'note': '',\n",
       "  'name': 'Marker 6',\n",
       "  'customData': ''},\n",
       " 3645: {'color': 'Blue',\n",
       "  'duration': 1,\n",
       "  'note': '',\n",
       "  'name': 'Marker 9',\n",
       "  'customData': ''},\n",
       " 4110: {'color': 'Blue',\n",
       "  'duration': 1,\n",
       "  'note': '',\n",
       "  'name': 'Marker 8',\n",
       "  'customData': ''},\n",
       " 5779: {'color': 'Blue',\n",
       "  'duration': 1,\n",
       "  'note': '',\n",
       "  'name': 'Marker 10',\n",
       "  'customData': ''},\n",
       " 6545: {'color': 'Blue',\n",
       "  'duration': 1,\n",
       "  'note': '',\n",
       "  'name': 'Marker 13',\n",
       "  'customData': ''},\n",
       " 7506: {'color': 'Blue',\n",
       "  'duration': 1,\n",
       "  'note': '',\n",
       "  'name': 'Marker 15',\n",
       "  'customData': ''},\n",
       " 8081: {'color': 'Blue',\n",
       "  'duration': 1,\n",
       "  'note': '',\n",
       "  'name': 'Marker 18',\n",
       "  'customData': ''},\n",
       " 9082: {'color': 'Blue',\n",
       "  'duration': 1,\n",
       "  'note': '',\n",
       "  'name': 'Marker 17',\n",
       "  'customData': ''}}"
      ]
     },
     "execution_count": 39,
     "metadata": {},
     "output_type": "execute_result"
    }
   ],
   "source": [
    "from davinci_still_tool.resolve_init import GetResolve\n",
    "\n",
    "resolve = GetResolve()\n",
    "project_manager = resolve.GetProjectManager()\n",
    "project = project_manager.GetCurrentProject()\n",
    "media_storage = resolve.GetMediaStorage()\n",
    "media_pool = project.GetMediaPool()\n",
    "root_folder = media_pool.GetRootFolder()\n",
    "current_timeline = project.GetCurrentTimeline()\n",
    "\n",
    "current_timeline.GetMarkers()"
   ]
  },
  {
   "cell_type": "code",
   "execution_count": 31,
   "metadata": {},
   "outputs": [],
   "source": []
  },
  {
   "cell_type": "code",
   "execution_count": null,
   "metadata": {},
   "outputs": [],
   "source": []
  }
 ],
 "metadata": {
  "kernelspec": {
   "display_name": ".venv",
   "language": "python",
   "name": "python3"
  },
  "language_info": {
   "codemirror_mode": {
    "name": "ipython",
    "version": 3
   },
   "file_extension": ".py",
   "mimetype": "text/x-python",
   "name": "python",
   "nbconvert_exporter": "python",
   "pygments_lexer": "ipython3",
   "version": "3.10.11"
  },
  "orig_nbformat": 4
 },
 "nbformat": 4,
 "nbformat_minor": 2
}
