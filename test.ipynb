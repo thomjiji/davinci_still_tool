{
 "cells": [
  {
   "cell_type": "code",
   "execution_count": 27,
   "metadata": {
    "ExecuteTime": {
     "end_time": "2023-04-22T15:27:05.561750Z",
     "start_time": "2023-04-22T15:27:05.557341Z"
    }
   },
   "outputs": [
    {
     "data": {
      "text/plain": [
       "[<BlackmagicFusion.PyRemoteObject at 0x1163355b0>,\n",
       " <BlackmagicFusion.PyRemoteObject at 0x116335430>,\n",
       " <BlackmagicFusion.PyRemoteObject at 0x116276250>,\n",
       " <BlackmagicFusion.PyRemoteObject at 0x116274e30>,\n",
       " <BlackmagicFusion.PyRemoteObject at 0x1162769f0>,\n",
       " <BlackmagicFusion.PyRemoteObject at 0x1162754f0>,\n",
       " <BlackmagicFusion.PyRemoteObject at 0x116274d70>,\n",
       " <BlackmagicFusion.PyRemoteObject at 0x11639cab0>,\n",
       " <BlackmagicFusion.PyRemoteObject at 0x11639da70>,\n",
       " <BlackmagicFusion.PyRemoteObject at 0x11639d8b0>]"
      ]
     },
     "execution_count": 27,
     "metadata": {},
     "output_type": "execute_result"
    }
   ],
   "source": [
    "from src.resolve_init import GetResolve\n",
    "from pprint import pprint\n",
    "\n",
    "resolve = GetResolve()\n",
    "project_manager = resolve.GetProjectManager()\n",
    "project = project_manager.GetCurrentProject()\n",
    "media_storage = resolve.GetMediaStorage()\n",
    "media_pool = project.GetMediaPool()\n",
    "root_folder = media_pool.GetRootFolder()\n",
    "current_timeline = project.GetCurrentTimeline()\n",
    "\n",
    "\n",
    "def get_subfolder_by_name(subfolder_name: str):\n",
    "    all_subfolder = root_folder.GetSubFolderList()\n",
    "    subfolder_dict = {\n",
    "        subfolder.GetName(): subfolder for subfolder in all_subfolder\n",
    "    }\n",
    "    return subfolder_dict.get(subfolder_name, \"\")\n",
    "\n",
    "\n",
    "# 拿到 Source 文件夹下所有卷的 video clip 信息，作为 MediaPoolItem\n",
    "\n",
    "\n",
    "def get_video_clips_in_date_group_source_folder(date_group: str) -> list:\n",
    "    source_clip_list = []\n",
    "\n",
    "    date_group_folder_structure = get_subfolder_by_name(\n",
    "        date_group\n",
    "    ).GetSubFolderList()  # type: ignore\n",
    "\n",
    "    for folder in date_group_folder_structure:\n",
    "        if folder.GetName() == \"Source\":\n",
    "            for each_video_reel in folder.GetSubFolderList():\n",
    "                reel_clips = each_video_reel.GetClipList()\n",
    "                for clip in reel_clips:\n",
    "                    source_clip_list.append(clip)\n",
    "\n",
    "    return source_clip_list\n",
    "\n",
    "\n",
    "def create_timeline(timeline_name: str, width: int, height: int):\n",
    "        media_pool.CreateEmptyTimeline(timeline_name)\n",
    "        current_timeline = project.GetCurrentTimeline()\n",
    "        current_timeline.SetSetting(\"useCustomSettings\", \"1\")\n",
    "        current_timeline.SetSetting(\"timelineResolutionWidth\", str(width))\n",
    "        current_timeline.SetSetting(\"timelineResolutionHeight\", str(height))\n",
    "        return current_timeline.SetSetting(\"timelineFrameRate\", str(24))\n",
    "\n",
    "sorted_clip_name = [\n",
    "    clip\n",
    "    for clip in get_video_clips_in_date_group_source_folder(\"DAY_015_20230421\")\n",
    "    if clip.GetClipProperty(\"Scene\") == \"10\"\n",
    "]\n",
    "media_pool.AppendToTimeline(sorted_clip_name)"
   ]
  },
  {
   "cell_type": "code",
   "execution_count": 29,
   "metadata": {},
   "outputs": [
    {
     "data": {
      "text/plain": [
       "{'timelineDropFrameTimecode': '0',\n",
       " 'timelineFrameRate': '24',\n",
       " 'timelineInputResMismatchBehavior': 'scaleToCrop',\n",
       " 'timelineInterlaceProcessing': '0',\n",
       " 'timelineOutputPixelAspectRatio': 'square',\n",
       " 'timelineOutputResMatchTimelineRes': '1',\n",
       " 'timelineOutputResMismatchBehavior': 'scaleToFit',\n",
       " 'timelineOutputResolutionHeight': '1080',\n",
       " 'timelineOutputResolutionWidth': '1998',\n",
       " 'timelinePixelAspectRatio': 'square',\n",
       " 'timelineResolutionHeight': '1080',\n",
       " 'timelineResolutionWidth': '1998',\n",
       " 'useCustomSettings': '1',\n",
       " 'videoDataLevels': 'Video',\n",
       " 'videoDataLevelsRetainSubblockAndSuperWhiteData': '0',\n",
       " 'videoMonitorBitDepth': '10',\n",
       " 'videoMonitorFormat': 'HD 1080p 24',\n",
       " 'videoMonitorMatrixOverrideFor422SDI': 'Rec.601',\n",
       " 'videoMonitorSDIConfiguration': 'dual_link',\n",
       " 'videoMonitorScaling': 'Bilinear',\n",
       " 'videoMonitorUse444SDI': '0',\n",
       " 'videoMonitorUseHDROverHDMI': '0',\n",
       " 'videoMonitorUseLevelA': '0',\n",
       " 'videoMonitorUseMatrixOverrideFor422SDI': '0',\n",
       " 'videoMonitorUseStereoSDI': '0',\n",
       " 'superScale': 1}"
      ]
     },
     "execution_count": 29,
     "metadata": {},
     "output_type": "execute_result"
    }
   ],
   "source": [
    "from src.resolve_init import GetResolve\n",
    "from pprint import pprint\n",
    "\n",
    "resolve = GetResolve()\n",
    "project_manager = resolve.GetProjectManager()\n",
    "project = project_manager.GetCurrentProject()\n",
    "media_storage = resolve.GetMediaStorage()\n",
    "media_pool = project.GetMediaPool()\n",
    "root_folder = media_pool.GetRootFolder()\n",
    "current_timeline = project.GetCurrentTimeline()\n",
    "\n",
    "current_timeline.GetSetting()"
   ]
  },
  {
   "cell_type": "code",
   "execution_count": null,
   "metadata": {},
   "outputs": [],
   "source": []
  }
 ],
 "metadata": {
  "kernelspec": {
   "display_name": ".venv",
   "language": "python",
   "name": "python3"
  },
  "language_info": {
   "codemirror_mode": {
    "name": "ipython",
    "version": 3
   },
   "file_extension": ".py",
   "mimetype": "text/x-python",
   "name": "python",
   "nbconvert_exporter": "python",
   "pygments_lexer": "ipython3",
   "version": "3.10.11"
  },
  "orig_nbformat": 4
 },
 "nbformat": 4,
 "nbformat_minor": 2
}
