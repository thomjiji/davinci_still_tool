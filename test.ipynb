{
 "cells": [
  {
   "cell_type": "code",
   "execution_count": 2,
   "metadata": {
    "ExecuteTime": {
     "start_time": "2023-04-25T20:15:39.155687Z",
     "end_time": "2023-04-25T20:15:39.459842Z"
    },
    "collapsed": false
   },
   "outputs": [],
   "source": [
    "from src.resolve_init import GetResolve\n",
    "from pprint import pprint\n",
    "\n",
    "resolve = GetResolve()\n",
    "project_manager = resolve.GetProjectManager()\n",
    "project = project_manager.GetCurrentProject()\n",
    "media_storage = resolve.GetMediaStorage()\n",
    "media_pool = project.GetMediaPool()\n",
    "root_folder = media_pool.GetRootFolder()\n",
    "current_timeline = project.GetCurrentTimeline()\n",
    "\n",
    "\n",
    "def get_subfolder_by_name(subfolder_name: str):\n",
    "    all_subfolder = root_folder.GetSubFolderList()\n",
    "    subfolder_dict = {\n",
    "        subfolder.GetName(): subfolder for subfolder in all_subfolder\n",
    "    }\n",
    "    return subfolder_dict.get(subfolder_name, \"\")\n",
    "\n",
    "\n",
    "def get_video_clips_in_date_group_source_folder(date_group: str) -> list:\n",
    "    source_clip_list = []\n",
    "\n",
    "    date_group_folder_structure = get_subfolder_by_name(\n",
    "        date_group\n",
    "    ).GetSubFolderList()  # type: ignore\n",
    "\n",
    "    for folder in date_group_folder_structure:\n",
    "        if folder.GetName() == \"Source\":\n",
    "            for each_video_reel in folder.GetSubFolderList():\n",
    "                reel_clips = each_video_reel.GetClipList()\n",
    "                for clip in reel_clips:\n",
    "                    source_clip_list.append(clip)\n",
    "\n",
    "    return source_clip_list\n",
    "\n",
    "\n",
    "def create_timeline(timeline_name: str, width: int, height: int) -> bool:\n",
    "    media_pool.CreateEmptyTimeline(timeline_name)\n",
    "    current_timeline = project.GetCurrentTimeline()\n",
    "    current_timeline.SetSetting(\"useCustomSettings\", \"1\")\n",
    "    current_timeline.SetSetting(\"timelineResolutionWidth\", str(width))\n",
    "    current_timeline.SetSetting(\"timelineResolutionHeight\", str(height))\n",
    "    return current_timeline.SetSetting(\"timelineFrameRate\", str(24))\n",
    "\n",
    "\n",
    "def get_clips_by_clip_color(date_group: str, clip_color: str) -> list:\n",
    "    source_clip_list = get_video_clips_in_date_group_source_folder(date_group)\n",
    "    return [\n",
    "        clip\n",
    "        for clip in source_clip_list\n",
    "        if clip.GetClipProperty(\"Clip Color\") == clip_color\n",
    "    ]\n",
    "\n",
    "\n",
    "def get_scene(date_group: str, clip_color: str) -> set:\n",
    "    scene_list = []\n",
    "    for clip in get_clips_by_clip_color(date_group, clip_color):\n",
    "        scene_list.append(clip.GetClipProperty(\"Scene\"))\n",
    "    return set(scene_list)\n",
    "\n",
    "\n",
    "def get_clips_by_scene(date_group: str, clip_color: str, scene: str) -> list:\n",
    "    return [\n",
    "        clip\n",
    "        for clip in get_clips_by_clip_color(date_group, clip_color)\n",
    "        if clip.GetClipProperty(\"Scene\") == scene\n",
    "    ]\n",
    "\n",
    "\n",
    "def get_clips_and_its_associated_SceneShotTake_info(date_group: str) -> dict:\n",
    "    all_clips = [clip for clip in get_clips_by_clip_color(date_group, \"Pink\")]\n",
    "\n",
    "    clips_scene_shot_take_dict = {}\n",
    "    for clip in all_clips:\n",
    "        clips_scene_shot_take_dict[clip] = {}\n",
    "        clips_scene_shot_take_dict[clip][\"Scene\"] = clip.GetClipProperty(\n",
    "            \"Scene\"\n",
    "        )\n",
    "        clips_scene_shot_take_dict[clip][\"Shot\"] = clip.GetClipProperty(\"Shot\")\n",
    "        clips_scene_shot_take_dict[clip][\"Take\"] = clip.GetClipProperty(\"Take\")\n",
    "\n",
    "    return clips_scene_shot_take_dict\n",
    "\n",
    "\n",
    "def append_to_timeline(date_group: str):\n",
    "    for scene in get_scene(date_group, \"Pink\"):\n",
    "        current_scene_clips: list = get_clips_by_scene(\n",
    "            date_group, \"Pink\", scene\n",
    "        )\n",
    "        sorted_clips = sorted(\n",
    "            current_scene_clips,\n",
    "            key=lambda clip: clip.GetClipProperty(\"Shot\"),\n",
    "            reverse=False,\n",
    "        )\n",
    "        media_pool.AppendToTimeline(sorted_clips)\n",
    "\n",
    "\n",
    "append_to_timeline(\"DAY_013_20230419\")"
   ]
  },
  {
   "cell_type": "code",
   "execution_count": 9,
   "metadata": {
    "ExecuteTime": {
     "start_time": "2023-04-26T15:59:40.179531Z",
     "end_time": "2023-04-26T15:59:40.183824Z"
    },
    "collapsed": false
   },
   "outputs": [
    {
     "data": {
      "text/plain": "{510: {'color': 'Cream',\n  'duration': 1,\n  'note': '',\n  'name': 'Marker 3',\n  'customData': ''},\n 5722: {'color': 'Cream',\n  'duration': 1,\n  'note': '',\n  'name': 'Marker 14',\n  'customData': ''},\n 7849: {'color': 'Cream',\n  'duration': 1,\n  'note': '',\n  'name': 'Marker 17',\n  'customData': ''},\n 28701: {'color': 'Cream',\n  'duration': 1,\n  'note': '',\n  'name': 'Marker 29',\n  'customData': ''},\n 29148: {'color': 'Cream',\n  'duration': 1,\n  'note': '',\n  'name': 'Marker 28',\n  'customData': ''},\n 35535: {'color': 'Cream',\n  'duration': 1,\n  'note': '',\n  'name': 'Marker 31',\n  'customData': ''},\n 39065: {'color': 'Cream',\n  'duration': 1,\n  'note': '',\n  'name': 'Marker 33',\n  'customData': ''},\n 39982: {'color': 'Cream',\n  'duration': 1,\n  'note': '',\n  'name': 'Marker 34',\n  'customData': ''},\n 43294: {'color': 'Cream',\n  'duration': 1,\n  'note': '',\n  'name': 'Marker 37',\n  'customData': ''},\n 44229: {'color': 'Cream',\n  'duration': 1,\n  'note': '',\n  'name': 'Marker 38',\n  'customData': ''},\n 51134: {'color': 'Cream',\n  'duration': 1,\n  'note': '',\n  'name': 'Marker 43',\n  'customData': ''},\n 60257: {'color': 'Cream',\n  'duration': 1,\n  'note': '',\n  'name': 'Marker 46',\n  'customData': ''},\n 90052: {'color': 'Cream',\n  'duration': 1,\n  'note': '',\n  'name': 'Marker 52',\n  'customData': ''}}"
     },
     "execution_count": 9,
     "metadata": {},
     "output_type": "execute_result"
    }
   ],
   "source": [
    "from src.resolve_init import GetResolve\n",
    "from pprint import pprint\n",
    "\n",
    "resolve = GetResolve()\n",
    "project_manager = resolve.GetProjectManager()\n",
    "project = project_manager.GetCurrentProject()\n",
    "media_storage = resolve.GetMediaStorage()\n",
    "media_pool = project.GetMediaPool()\n",
    "root_folder = media_pool.GetRootFolder()\n",
    "current_timeline = project.GetCurrentTimeline()\n",
    "\n",
    "current_timeline.GetMarkers()"
   ]
  },
  {
   "cell_type": "code",
   "execution_count": null,
   "metadata": {
    "collapsed": false
   },
   "outputs": [],
   "source": []
  }
 ],
 "metadata": {
  "kernelspec": {
   "display_name": ".venv",
   "language": "python",
   "name": "python3"
  },
  "language_info": {
   "codemirror_mode": {
    "name": "ipython",
    "version": 3
   },
   "file_extension": ".py",
   "mimetype": "text/x-python",
   "name": "python",
   "nbconvert_exporter": "python",
   "pygments_lexer": "ipython3",
   "version": "3.10.11"
  },
  "orig_nbformat": 4
 },
 "nbformat": 4,
 "nbformat_minor": 2
}
